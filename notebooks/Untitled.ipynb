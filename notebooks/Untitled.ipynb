{
 "cells": [
  {
   "cell_type": "code",
   "execution_count": 1,
   "id": "9e31dfb1-ab55-4e33-8b15-6c52fc6e3899",
   "metadata": {},
   "outputs": [
    {
     "name": "stdout",
     "output_type": "stream",
     "text": [
      "Requirement already satisfied: scikit-learn in c:\\users\\user\\appdata\\local\\programs\\python\\python312\\lib\\site-packages (1.5.2)\n",
      "Requirement already satisfied: numpy>=1.19.5 in c:\\users\\user\\appdata\\local\\programs\\python\\python312\\lib\\site-packages (from scikit-learn) (1.26.4)\n",
      "Requirement already satisfied: scipy>=1.6.0 in c:\\users\\user\\appdata\\local\\programs\\python\\python312\\lib\\site-packages (from scikit-learn) (1.14.1)\n",
      "Requirement already satisfied: joblib>=1.2.0 in c:\\users\\user\\appdata\\local\\programs\\python\\python312\\lib\\site-packages (from scikit-learn) (1.4.2)\n",
      "Requirement already satisfied: threadpoolctl>=3.1.0 in c:\\users\\user\\appdata\\local\\programs\\python\\python312\\lib\\site-packages (from scikit-learn) (3.5.0)\n",
      "Note: you may need to restart the kernel to use updated packages.\n"
     ]
    }
   ],
   "source": [
    "pip install scikit-learn"
   ]
  },
  {
   "cell_type": "code",
   "execution_count": 5,
   "id": "fd9bb400-a68e-4cc0-8b28-7217c59a1614",
   "metadata": {},
   "outputs": [],
   "source": [
    "from sklearn.model_selection import train_test_split"
   ]
  },
  {
   "cell_type": "code",
   "execution_count": 7,
   "id": "79e314cf-79ea-48c0-9942-a88443ac876c",
   "metadata": {},
   "outputs": [],
   "source": [
    "import pandas as pd\n",
    "\n",
    "# Load the Fraud_Data.csv\n",
    "fraud_data = pd.read_csv('../data/ffraud_Data.csv')\n"
   ]
  },
  {
   "cell_type": "code",
   "execution_count": 8,
   "id": "bd28d623-586a-4053-a937-7c2511a3a8e9",
   "metadata": {},
   "outputs": [
    {
     "name": "stdout",
     "output_type": "stream",
     "text": [
      "Categorical Columns: ['signup_time', 'purchase_time', 'device_id', 'source', 'browser', 'sex']\n"
     ]
    }
   ],
   "source": [
    "# Identify categorical columns (if unknown)\n",
    "categorical_columns_fraud = fraud_data.select_dtypes(include=['object', 'category']).columns.tolist()\n",
    "\n",
    "print(\"Categorical Columns:\", categorical_columns_fraud)\n",
    "\n",
    "# Select the categorical columns\n",
    "categorical_data_fraud = fraud_data[categorical_columns_fraud]\n"
   ]
  },
  {
   "cell_type": "code",
   "execution_count": 20,
   "id": "924770a8-1313-4d7f-b7f0-93ae8b145318",
   "metadata": {},
   "outputs": [],
   "source": [
    "from sklearn.feature_extraction import FeatureHasher\n",
    "\n",
    "# Initialize the FeatureHasher\n",
    "hasher = FeatureHasher(n_features=100, input_type='string')  # Choose n_features based on your needs\n",
    "\n",
    "# Apply feature hashing to categorical columns\n",
    "hashed_features = hasher.transform(fraud_data[categorical_columns_fraud].astype(str).values)\n",
    "\n",
    "# Convert to a dense array if needed\n",
    "hashed_features_dense = hashed_features.toarray()\n"
   ]
  },
  {
   "cell_type": "code",
   "execution_count": 15,
   "id": "e608cfbe-f0ed-4676-b1f1-89e2a7b3a130",
   "metadata": {},
   "outputs": [],
   "source": [
    "import pandas as pd\n",
    "\n",
    "# Load the creditcard.csv dataset\n",
    "creditcard_data = pd.read_csv('../data/creditcard.csv')\n"
   ]
  },
  {
   "cell_type": "code",
   "execution_count": 19,
   "id": "01e7fc14-cd86-4379-b198-0e2f4bc03de1",
   "metadata": {},
   "outputs": [
    {
     "name": "stdout",
     "output_type": "stream",
     "text": [
      "Categorical Columns: []\n"
     ]
    }
   ],
   "source": [
    "# Identify categorical columns (if unknown)\n",
    "categorical_columns_credit = creditcard_data.select_dtypes(include=['object', 'category']).columns.tolist()\n",
    "\n",
    "# Display identified categorical columns\n",
    "print(\"Categorical Columns:\", categorical_columns_credit)\n",
    "\n",
    "# Select only categorical columns\n",
    "categorical_data_credit = creditcard_data[categorical_columns_credit]\n"
   ]
  },
  {
   "cell_type": "code",
   "execution_count": 18,
   "id": "c420db2e-729b-4800-adff-091b2a3917de",
   "metadata": {},
   "outputs": [
    {
     "name": "stdout",
     "output_type": "stream",
     "text": [
      "(284807, 31)\n"
     ]
    }
   ],
   "source": [
    "# Split data into batches\n",
    "batch_size = 10000  # Adjust the batch size according to your system memory\n",
    "num_batches = len(creditcard_data) // batch_size + 1\n",
    "\n",
    "encoded_batches = []\n",
    "for i in range(num_batches):\n",
    "    batch = creditcard_data.iloc[i * batch_size:(i + 1) * batch_size]\n",
    "    encoded_batch = pd.get_dummies(batch, columns=categorical_columns_credit)\n",
    "    encoded_batches.append(encoded_batch)\n",
    "\n",
    "# Concatenate the encoded batches\n",
    "encoded_creditcard_data = pd.concat(encoded_batches, axis=0)\n",
    "\n",
    "# Display the shape of the resulting dataset\n",
    "print(encoded_creditcard_data.shape)\n"
   ]
  },
  {
   "cell_type": "code",
   "execution_count": 21,
   "id": "fe5b21e0-37f8-4514-8dd6-fe7461a545a0",
   "metadata": {},
   "outputs": [],
   "source": [
    "from sklearn.preprocessing import StandardScaler, MinMaxScaler"
   ]
  },
  {
   "cell_type": "code",
   "execution_count": 23,
   "id": "ca797fc1-0575-4532-a9db-7716003c9b7e",
   "metadata": {},
   "outputs": [
    {
     "name": "stdout",
     "output_type": "stream",
     "text": [
      "   Time        V1        V2        V3        V4        V5        V6        V7  \\\n",
      "0   0.0 -1.359807 -0.072781  2.536347  1.378155 -0.338321  0.462388  0.239599   \n",
      "1   0.0  1.191857  0.266151  0.166480  0.448154  0.060018 -0.082361 -0.078803   \n",
      "2   1.0 -1.358354 -1.340163  1.773209  0.379780 -0.503198  1.800499  0.791461   \n",
      "3   1.0 -0.966272 -0.185226  1.792993 -0.863291 -0.010309  1.247203  0.237609   \n",
      "4   2.0 -1.158233  0.877737  1.548718  0.403034 -0.407193  0.095921  0.592941   \n",
      "\n",
      "         V8        V9  ...       V21       V22       V23       V24       V25  \\\n",
      "0  0.098698  0.363787  ... -0.018307  0.277838 -0.110474  0.066928  0.128539   \n",
      "1  0.085102 -0.255425  ... -0.225775 -0.638672  0.101288 -0.339846  0.167170   \n",
      "2  0.247676 -1.514654  ...  0.247998  0.771679  0.909412 -0.689281 -0.327642   \n",
      "3  0.377436 -1.387024  ... -0.108300  0.005274 -0.190321 -1.175575  0.647376   \n",
      "4 -0.270533  0.817739  ... -0.009431  0.798278 -0.137458  0.141267 -0.206010   \n",
      "\n",
      "        V26       V27       V28  Amount  Class  \n",
      "0 -0.189115  0.133558 -0.021053  149.62      0  \n",
      "1  0.125895 -0.008983  0.014724    2.69      0  \n",
      "2 -0.139097 -0.055353 -0.059752  378.66      0  \n",
      "3 -0.221929  0.062723  0.061458  123.50      0  \n",
      "4  0.502292  0.219422  0.215153   69.99      0  \n",
      "\n",
      "[5 rows x 31 columns]\n"
     ]
    }
   ],
   "source": [
    "import pandas as pd\n",
    "\n",
    "# Assuming creditcard_data is already loaded\n",
    "# Identify categorical columns (if not already done)\n",
    "categorical_columns_credit = creditcard_data.select_dtypes(include=['object', 'category']).columns.tolist()\n",
    "\n",
    "# Apply one-hot encoding to the categorical columns\n",
    "encoded_creditcard_data = pd.get_dummies(creditcard_data, columns=categorical_columns_credit)\n",
    "\n",
    "# Now encoded_creditcard_data exists\n",
    "# Drop the original categorical columns if not done already\n",
    "creditcard_data_encoded = encoded_creditcard_data\n",
    "\n",
    "# Make sure everything is working by printing the head of the dataframe\n",
    "print(creditcard_data_encoded.head())\n"
   ]
  },
  {
   "cell_type": "code",
   "execution_count": 24,
   "id": "c4dd6774-d5c9-404e-bfab-6a0e6767786a",
   "metadata": {},
   "outputs": [],
   "source": [
    "# For Creditcard data (separating features and target)\n",
    "X_creditcard = creditcard_data_encoded.drop(columns=['Class'])  # Exclude target column\n",
    "y_creditcard = creditcard_data_encoded['Class']  # Target column\n",
    "\n",
    "# For Fraud data (you'll need to load fraud_data similarly)\n",
    "X_fraud = fraud_data.drop(columns=['class'])  # Exclude target column\n",
    "y_fraud = fraud_data['class']  # Target column\n"
   ]
  },
  {
   "cell_type": "code",
   "execution_count": 26,
   "id": "f5a91c9c-e8a1-440c-96cc-faf861cc7880",
   "metadata": {},
   "outputs": [
    {
     "name": "stdout",
     "output_type": "stream",
     "text": [
      "Time      float64\n",
      "V1        float64\n",
      "V2        float64\n",
      "V3        float64\n",
      "V4        float64\n",
      "V5        float64\n",
      "V6        float64\n",
      "V7        float64\n",
      "V8        float64\n",
      "V9        float64\n",
      "V10       float64\n",
      "V11       float64\n",
      "V12       float64\n",
      "V13       float64\n",
      "V14       float64\n",
      "V15       float64\n",
      "V16       float64\n",
      "V17       float64\n",
      "V18       float64\n",
      "V19       float64\n",
      "V20       float64\n",
      "V21       float64\n",
      "V22       float64\n",
      "V23       float64\n",
      "V24       float64\n",
      "V25       float64\n",
      "V26       float64\n",
      "V27       float64\n",
      "V28       float64\n",
      "Amount    float64\n",
      "Class       int64\n",
      "dtype: object\n"
     ]
    }
   ],
   "source": [
    "# Check the data types of the columns\n",
    "print(creditcard_data_encoded.dtypes)\n",
    "\n",
    "# Convert datetime columns to timestamp (assuming 'Date' is the column name)\n",
    "if 'Date' in creditcard_data_encoded.columns:\n",
    "    creditcard_data_encoded['Date'] = pd.to_datetime(creditcard_data_encoded['Date']).astype(int) / 10**9  # Convert to seconds since epoch\n"
   ]
  },
  {
   "cell_type": "code",
   "execution_count": 27,
   "id": "8b0d5f4f-3463-4ad0-93eb-6d6a70752639",
   "metadata": {},
   "outputs": [],
   "source": [
    "# Select only numeric columns for normalization\n",
    "numeric_columns_credit = creditcard_data_encoded.select_dtypes(include=['float64', 'int64']).columns.tolist()\n",
    "\n",
    "# Separate features (X) and target (y)\n",
    "X_creditcard = creditcard_data_encoded[numeric_columns_credit].drop(columns=['Class'])  # Exclude target column\n",
    "y_creditcard = creditcard_data_encoded['Class']  # Target column\n",
    "\n",
    "# Similarly, for fraud data\n",
    "numeric_columns_fraud = fraud_data.select_dtypes(include=['float64', 'int64']).columns.tolist()\n",
    "X_fraud = fraud_data[numeric_columns_fraud].drop(columns=['class'])  # Exclude target column\n",
    "y_fraud = fraud_data['class']  # Target column\n",
    "\n"
   ]
  },
  {
   "cell_type": "code",
   "execution_count": 29,
   "id": "7146a425-bb1f-411a-bab1-163c0c40edda",
   "metadata": {},
   "outputs": [
    {
     "name": "stderr",
     "output_type": "stream",
     "text": [
      "C:\\Users\\User\\AppData\\Local\\Programs\\Python\\Python312\\Lib\\site-packages\\sklearn\\utils\\_array_api.py:695: RuntimeWarning: All-NaN slice encountered\n",
      "  return xp.asarray(numpy.nanmin(X, axis=axis))\n",
      "C:\\Users\\User\\AppData\\Local\\Programs\\Python\\Python312\\Lib\\site-packages\\sklearn\\utils\\_array_api.py:712: RuntimeWarning: All-NaN slice encountered\n",
      "  return xp.asarray(numpy.nanmax(X, axis=axis))\n"
     ]
    }
   ],
   "source": [
    "from sklearn.preprocessing import MinMaxScaler\n",
    "\n",
    "# Initialize the scaler\n",
    "scaler = MinMaxScaler()\n",
    "\n",
    "# Normalize Creditcard data\n",
    "X_creditcard_scaled = scaler.fit_transform(X_creditcard)\n",
    "\n",
    "# Normalize Fraud data\n",
    "X_fraud_scaled = scaler.fit_transform(X_fraud)\n"
   ]
  },
  {
   "cell_type": "code",
   "execution_count": 30,
   "id": "a13e13ea-705c-49f4-a925-ad97a380a8cd",
   "metadata": {},
   "outputs": [
    {
     "name": "stdout",
     "output_type": "stream",
     "text": [
      "       Time        V1        V2        V3        V4        V5        V6  \\\n",
      "0  0.000000  0.935192  0.766490  0.881365  0.313023  0.763439  0.267669   \n",
      "1  0.000000  0.978542  0.770067  0.840298  0.271796  0.766120  0.262192   \n",
      "2  0.000006  0.935217  0.753118  0.868141  0.268766  0.762329  0.281122   \n",
      "3  0.000006  0.941878  0.765304  0.868484  0.213661  0.765647  0.275559   \n",
      "4  0.000012  0.938617  0.776520  0.864251  0.269796  0.762975  0.263984   \n",
      "\n",
      "         V7        V8        V9  ...       V21       V22       V23       V24  \\\n",
      "0  0.266815  0.786444  0.475312  ...  0.561184  0.522992  0.663793  0.391253   \n",
      "1  0.264875  0.786298  0.453981  ...  0.557840  0.480237  0.666938  0.336440   \n",
      "2  0.270177  0.788042  0.410603  ...  0.565477  0.546030  0.678939  0.289354   \n",
      "3  0.266803  0.789434  0.414999  ...  0.559734  0.510277  0.662607  0.223826   \n",
      "4  0.268968  0.782484  0.490950  ...  0.561327  0.547271  0.663392  0.401270   \n",
      "\n",
      "        V25       V26       V27       V28    Amount  Class  \n",
      "0  0.585122  0.394557  0.418976  0.312697  0.005824      0  \n",
      "1  0.587290  0.446013  0.416345  0.313423  0.000105      0  \n",
      "2  0.559515  0.402727  0.415489  0.311911  0.014739      0  \n",
      "3  0.614245  0.389197  0.417669  0.314371  0.004807      0  \n",
      "4  0.566343  0.507497  0.420561  0.317490  0.002724      0  \n",
      "\n",
      "[5 rows x 31 columns]\n",
      "    user_id  purchase_value       age  ip_address  lower_bound_ip_address  \\\n",
      "0  0.055140        0.172414  0.362069    0.170603                     NaN   \n",
      "1  0.833299        0.048276  0.603448    0.081554                     NaN   \n",
      "2  0.003393        0.041379  0.603448    0.610371                     NaN   \n",
      "3  0.375207        0.241379  0.396552    0.894219                     NaN   \n",
      "4  0.553410        0.206897  0.465517    0.096752                     NaN   \n",
      "\n",
      "   upper_bound_ip_address  country  class  \n",
      "0                     NaN      NaN      0  \n",
      "1                     NaN      NaN      0  \n",
      "2                     NaN      NaN      1  \n",
      "3                     NaN      NaN      0  \n",
      "4                     NaN      NaN      0  \n"
     ]
    }
   ],
   "source": [
    "# Combine normalized features with the target column for Creditcard data\n",
    "creditcard_data_normalized = pd.DataFrame(X_creditcard_scaled, columns=X_creditcard.columns)\n",
    "creditcard_data_normalized['Class'] = y_creditcard.reset_index(drop=True)\n",
    "\n",
    "# Combine normalized features with the target column for Fraud data\n",
    "fraud_data_normalized = pd.DataFrame(X_fraud_scaled, columns=X_fraud.columns)\n",
    "fraud_data_normalized['class'] = y_fraud.reset_index(drop=True)\n",
    "\n",
    "# Show the normalized data\n",
    "print(creditcard_data_normalized.head())\n",
    "print(fraud_data_normalized.head())\n"
   ]
  },
  {
   "cell_type": "code",
   "execution_count": 31,
   "id": "c996e2f3-10b0-42e8-ad91-f2d7061420b3",
   "metadata": {},
   "outputs": [],
   "source": [
    "import pandas as pd\n",
    "from sklearn.model_selection import train_test_split\n",
    "\n",
    "# Assuming creditcard_data_normalized and fraud_data_normalized are already defined\n",
    "\n",
    "# Feature and target separation for credit card data\n",
    "X_creditcard = creditcard_data_normalized.drop(columns=['Class'])  # Exclude the target\n",
    "y_creditcard = creditcard_data_normalized['Class']  # Target variable\n",
    "\n",
    "# Feature and target separation for fraud data\n",
    "X_fraud = fraud_data_normalized.drop(columns=['class'])  # Exclude the target\n",
    "y_fraud = fraud_data_normalized['class']  # Target variable\n"
   ]
  },
  {
   "cell_type": "code",
   "execution_count": 32,
   "id": "d5bc78c8-0f43-477a-9ed3-86d7f6f4a7af",
   "metadata": {},
   "outputs": [],
   "source": [
    "# Split credit card data into training and testing sets\n",
    "X_creditcard_train, X_creditcard_test, y_creditcard_train, y_creditcard_test = train_test_split(\n",
    "    X_creditcard, y_creditcard, test_size=0.2, random_state=42\n",
    ")\n",
    "\n",
    "# Split fraud data into training and testing sets\n",
    "X_fraud_train, X_fraud_test, y_fraud_train, y_fraud_test = train_test_split(\n",
    "    X_fraud, y_fraud, test_size=0.2, random_state=42\n",
    ")"
   ]
  },
  {
   "cell_type": "code",
   "execution_count": 33,
   "id": "86f74cd9-d624-4236-bd8f-1756744fb7f7",
   "metadata": {},
   "outputs": [],
   "source": [
    "import pandas as pd\n",
    "from sklearn.linear_model import LogisticRegression\n",
    "from sklearn.metrics import accuracy_score, confusion_matrix, classification_report\n"
   ]
  },
  {
   "cell_type": "code",
   "execution_count": 35,
   "id": "68dcf3da-c512-4b26-a2d0-47d53ee9f4d1",
   "metadata": {},
   "outputs": [
    {
     "name": "stderr",
     "output_type": "stream",
     "text": [
      "C:\\Users\\User\\AppData\\Local\\Programs\\Python\\Python312\\Lib\\site-packages\\sklearn\\impute\\_base.py:598: UserWarning: Skipping features without any observed values: ['lower_bound_ip_address' 'upper_bound_ip_address' 'country']. At least one non-missing value is needed for imputation with strategy='mean'.\n",
      "  warnings.warn(\n",
      "C:\\Users\\User\\AppData\\Local\\Programs\\Python\\Python312\\Lib\\site-packages\\sklearn\\impute\\_base.py:598: UserWarning: Skipping features without any observed values: ['lower_bound_ip_address' 'upper_bound_ip_address' 'country']. At least one non-missing value is needed for imputation with strategy='mean'.\n",
      "  warnings.warn(\n"
     ]
    }
   ],
   "source": [
    "from sklearn.impute import SimpleImputer\n",
    "\n",
    "# Impute missing values for Credit Card Data\n",
    "imputer_creditcard = SimpleImputer(strategy='mean')  # or 'median', or 'most_frequent' for categorical columns\n",
    "X_creditcard_train_imputed = imputer_creditcard.fit_transform(X_creditcard_train)\n",
    "X_creditcard_test_imputed = imputer_creditcard.transform(X_creditcard_test)\n",
    "\n",
    "# Impute missing values for Fraud Data\n",
    "imputer_fraud = SimpleImputer(strategy='mean')  # or 'median', or 'most_frequent'\n",
    "X_fraud_train_imputed = imputer_fraud.fit_transform(X_fraud_train)\n",
    "X_fraud_test_imputed = imputer_fraud.transform(X_fraud_test)\n"
   ]
  },
  {
   "cell_type": "code",
   "execution_count": 36,
   "id": "6858d926-ce31-4fb5-81d4-1d3ee9f45278",
   "metadata": {},
   "outputs": [
    {
     "name": "stdout",
     "output_type": "stream",
     "text": [
      "Credit Card Data Performance:\n",
      "Accuracy: 0.9988764439450862\n",
      "Confusion Matrix:\n",
      " [[56855     9]\n",
      " [   55    43]]\n",
      "Classification Report:\n",
      "               precision    recall  f1-score   support\n",
      "\n",
      "           0       1.00      1.00      1.00     56864\n",
      "           1       0.83      0.44      0.57        98\n",
      "\n",
      "    accuracy                           1.00     56962\n",
      "   macro avg       0.91      0.72      0.79     56962\n",
      "weighted avg       1.00      1.00      1.00     56962\n",
      "\n",
      "Fraud Data Performance:\n",
      "Accuracy: 0.9057009562253913\n",
      "Confusion Matrix:\n",
      " [[27373     0]\n",
      " [ 2850     0]]\n",
      "Classification Report:\n",
      "               precision    recall  f1-score   support\n",
      "\n",
      "           0       0.91      1.00      0.95     27373\n",
      "           1       0.00      0.00      0.00      2850\n",
      "\n",
      "    accuracy                           0.91     30223\n",
      "   macro avg       0.45      0.50      0.48     30223\n",
      "weighted avg       0.82      0.91      0.86     30223\n",
      "\n"
     ]
    },
    {
     "name": "stderr",
     "output_type": "stream",
     "text": [
      "C:\\Users\\User\\AppData\\Local\\Programs\\Python\\Python312\\Lib\\site-packages\\sklearn\\metrics\\_classification.py:1531: UndefinedMetricWarning: Precision is ill-defined and being set to 0.0 in labels with no predicted samples. Use `zero_division` parameter to control this behavior.\n",
      "  _warn_prf(average, modifier, f\"{metric.capitalize()} is\", len(result))\n",
      "C:\\Users\\User\\AppData\\Local\\Programs\\Python\\Python312\\Lib\\site-packages\\sklearn\\metrics\\_classification.py:1531: UndefinedMetricWarning: Precision is ill-defined and being set to 0.0 in labels with no predicted samples. Use `zero_division` parameter to control this behavior.\n",
      "  _warn_prf(average, modifier, f\"{metric.capitalize()} is\", len(result))\n",
      "C:\\Users\\User\\AppData\\Local\\Programs\\Python\\Python312\\Lib\\site-packages\\sklearn\\metrics\\_classification.py:1531: UndefinedMetricWarning: Precision is ill-defined and being set to 0.0 in labels with no predicted samples. Use `zero_division` parameter to control this behavior.\n",
      "  _warn_prf(average, modifier, f\"{metric.capitalize()} is\", len(result))\n"
     ]
    }
   ],
   "source": [
    "# Logistic Regression for Credit Card Data\n",
    "logistic_model_creditcard = LogisticRegression(max_iter=1000)\n",
    "logistic_model_creditcard.fit(X_creditcard_train_imputed, y_creditcard_train)\n",
    "\n",
    "# Logistic Regression for Fraud Data\n",
    "logistic_model_fraud = LogisticRegression(max_iter=1000)\n",
    "logistic_model_fraud.fit(X_fraud_train_imputed, y_fraud_train)\n",
    "\n",
    "# Predictions for Credit Card Data\n",
    "y_creditcard_pred = logistic_model_creditcard.predict(X_creditcard_test_imputed)\n",
    "\n",
    "# Predictions for Fraud Data\n",
    "y_fraud_pred = logistic_model_fraud.predict(X_fraud_test_imputed)\n",
    "\n",
    "# Evaluate Credit Card Model\n",
    "print(\"Credit Card Data Performance:\")\n",
    "print(\"Accuracy:\", accuracy_score(y_creditcard_test, y_creditcard_pred))\n",
    "print(\"Confusion Matrix:\\n\", confusion_matrix(y_creditcard_test, y_creditcard_pred))\n",
    "print(\"Classification Report:\\n\", classification_report(y_creditcard_test, y_creditcard_pred))\n",
    "\n",
    "# Evaluate Fraud Model\n",
    "print(\"Fraud Data Performance:\")\n",
    "print(\"Accuracy:\", accuracy_score(y_fraud_test, y_fraud_pred))\n",
    "print(\"Confusion Matrix:\\n\", confusion_matrix(y_fraud_test, y_fraud_pred))\n",
    "print(\"Classification Report:\\n\", classification_report(y_fraud_test, y_fraud_pred))\n"
   ]
  },
  {
   "cell_type": "code",
   "execution_count": 37,
   "id": "4c4a005d-916b-4bad-a09c-aeaea1be93e9",
   "metadata": {},
   "outputs": [],
   "source": [
    "from sklearn.tree import DecisionTreeClassifier\n",
    "from sklearn.metrics import accuracy_score, confusion_matrix, classification_report\n"
   ]
  },
  {
   "cell_type": "code",
   "execution_count": 38,
   "id": "9765e07b-c506-48ff-b8ef-3404829497db",
   "metadata": {},
   "outputs": [
    {
     "name": "stdout",
     "output_type": "stream",
     "text": [
      "Credit Card Data Performance:\n",
      "Accuracy: 0.9990519995786665\n",
      "Confusion Matrix:\n",
      " [[56830    34]\n",
      " [   20    78]]\n",
      "Classification Report:\n",
      "               precision    recall  f1-score   support\n",
      "\n",
      "           0       1.00      1.00      1.00     56864\n",
      "           1       0.70      0.80      0.74        98\n",
      "\n",
      "    accuracy                           1.00     56962\n",
      "   macro avg       0.85      0.90      0.87     56962\n",
      "weighted avg       1.00      1.00      1.00     56962\n",
      "\n",
      "Fraud Data Performance:\n",
      "Accuracy: 0.8934586242265824\n",
      "Confusion Matrix:\n",
      " [[25592  1781]\n",
      " [ 1439  1411]]\n",
      "Classification Report:\n",
      "               precision    recall  f1-score   support\n",
      "\n",
      "           0       0.95      0.93      0.94     27373\n",
      "           1       0.44      0.50      0.47      2850\n",
      "\n",
      "    accuracy                           0.89     30223\n",
      "   macro avg       0.69      0.72      0.70     30223\n",
      "weighted avg       0.90      0.89      0.90     30223\n",
      "\n"
     ]
    }
   ],
   "source": [
    "# Fit Decision Tree for Credit Card Data\n",
    "decision_tree_creditcard = DecisionTreeClassifier(random_state=42)\n",
    "decision_tree_creditcard.fit(X_creditcard_train_imputed, y_creditcard_train)\n",
    "\n",
    "# Fit Decision Tree for Fraud Data\n",
    "decision_tree_fraud = DecisionTreeClassifier(random_state=42)\n",
    "decision_tree_fraud.fit(X_fraud_train_imputed, y_fraud_train)\n",
    "\n",
    "# Predictions for Credit Card Data\n",
    "y_creditcard_pred = decision_tree_creditcard.predict(X_creditcard_test_imputed)\n",
    "\n",
    "# Predictions for Fraud Data\n",
    "y_fraud_pred = decision_tree_fraud.predict(X_fraud_test_imputed)\n",
    "\n",
    "\n",
    "# Evaluate Credit Card Model\n",
    "print(\"Credit Card Data Performance:\")\n",
    "print(\"Accuracy:\", accuracy_score(y_creditcard_test, y_creditcard_pred))\n",
    "print(\"Confusion Matrix:\\n\", confusion_matrix(y_creditcard_test, y_creditcard_pred))\n",
    "print(\"Classification Report:\\n\", classification_report(y_creditcard_test, y_creditcard_pred))\n",
    "\n",
    "# Evaluate Fraud Model\n",
    "print(\"Fraud Data Performance:\")\n",
    "print(\"Accuracy:\", accuracy_score(y_fraud_test, y_fraud_pred))\n",
    "print(\"Confusion Matrix:\\n\", confusion_matrix(y_fraud_test, y_fraud_pred))\n",
    "print(\"Classification Report:\\n\", classification_report(y_fraud_test, y_fraud_pred))\n"
   ]
  },
  {
   "cell_type": "code",
   "execution_count": null,
   "id": "5b982b23-a1ae-4c22-b216-9755aff49389",
   "metadata": {},
   "outputs": [],
   "source": []
  }
 ],
 "metadata": {
  "kernelspec": {
   "display_name": "Python 3 (ipykernel)",
   "language": "python",
   "name": "python3"
  },
  "language_info": {
   "codemirror_mode": {
    "name": "ipython",
    "version": 3
   },
   "file_extension": ".py",
   "mimetype": "text/x-python",
   "name": "python",
   "nbconvert_exporter": "python",
   "pygments_lexer": "ipython3",
   "version": "3.12.6"
  }
 },
 "nbformat": 4,
 "nbformat_minor": 5
}
