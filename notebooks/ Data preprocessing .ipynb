{
 "cells": [
  {
   "cell_type": "code",
   "execution_count": 2,
   "id": "be871bca-de66-48bb-9834-78684a128a63",
   "metadata": {},
   "outputs": [
    {
     "name": "stdout",
     "output_type": "stream",
     "text": [
      "Here is the tail of fraud data set:\n",
      "        user_id          signup_time        purchase_time  purchase_value  \\\n",
      "151107   345170  2015-01-27 03:03:34  2015-03-29 00:30:47              43   \n",
      "151108   274471  2015-05-15 17:43:29  2015-05-26 12:24:39              35   \n",
      "151109   368416  2015-03-03 23:07:31  2015-05-20 07:07:47              40   \n",
      "151110   207709  2015-07-09 20:06:07  2015-09-07 09:34:46              46   \n",
      "151111   138208  2015-06-10 07:02:20  2015-07-21 02:03:53              20   \n",
      "\n",
      "            device_id  source browser sex  age    ip_address  class  \n",
      "151107  XPSKTWGPWINLR     SEO  Chrome   M   28  3.451155e+09      1  \n",
      "151108  LYSFABUCPCGBA     SEO  Safari   M   32  2.439047e+09      0  \n",
      "151109  MEQHCSJUBRBFE     SEO      IE   F   26  2.748471e+09      0  \n",
      "151110  CMCXFGRHYSTVJ     SEO  Chrome   M   37  3.601175e+09      0  \n",
      "151111  ZINIADFCLHYPG  Direct      IE   M   38  4.103825e+09      0  \n"
     ]
    }
   ],
   "source": [
    "import pandas as pd\n",
    "fraud_data = pd.read_csv('../data/Fraud_data.csv')\n",
    "framed_fraud_data = pd.DataFrame(fraud_data)\n",
    "print(f'Here is the tail of fraud data set:\\n{framed_fraud_data.tail()}')"
   ]
  },
  {
   "cell_type": "code",
   "execution_count": 3,
   "id": "2426726c-70c3-484d-9066-cbfcaca9452a",
   "metadata": {},
   "outputs": [
    {
     "name": "stdout",
     "output_type": "stream",
     "text": [
      "Here is the tail of credit data set:\n",
      "   Time        V1        V2        V3        V4        V5        V6        V7  \\\n",
      "0   0.0 -1.359807 -0.072781  2.536347  1.378155 -0.338321  0.462388  0.239599   \n",
      "1   0.0  1.191857  0.266151  0.166480  0.448154  0.060018 -0.082361 -0.078803   \n",
      "2   1.0 -1.358354 -1.340163  1.773209  0.379780 -0.503198  1.800499  0.791461   \n",
      "3   1.0 -0.966272 -0.185226  1.792993 -0.863291 -0.010309  1.247203  0.237609   \n",
      "4   2.0 -1.158233  0.877737  1.548718  0.403034 -0.407193  0.095921  0.592941   \n",
      "\n",
      "         V8        V9  ...       V21       V22       V23       V24       V25  \\\n",
      "0  0.098698  0.363787  ... -0.018307  0.277838 -0.110474  0.066928  0.128539   \n",
      "1  0.085102 -0.255425  ... -0.225775 -0.638672  0.101288 -0.339846  0.167170   \n",
      "2  0.247676 -1.514654  ...  0.247998  0.771679  0.909412 -0.689281 -0.327642   \n",
      "3  0.377436 -1.387024  ... -0.108300  0.005274 -0.190321 -1.175575  0.647376   \n",
      "4 -0.270533  0.817739  ... -0.009431  0.798278 -0.137458  0.141267 -0.206010   \n",
      "\n",
      "        V26       V27       V28  Amount  Class  \n",
      "0 -0.189115  0.133558 -0.021053  149.62      0  \n",
      "1  0.125895 -0.008983  0.014724    2.69      0  \n",
      "2 -0.139097 -0.055353 -0.059752  378.66      0  \n",
      "3 -0.221929  0.062723  0.061458  123.50      0  \n",
      "4  0.502292  0.219422  0.215153   69.99      0  \n",
      "\n",
      "[5 rows x 31 columns]\n"
     ]
    }
   ],
   "source": [
    "import pandas as pd\n",
    "fraud_data = pd.read_csv('../data/creditcard.csv')\n",
    "framed_credit_data = pd.DataFrame(fraud_data)\n",
    "print(f'Here is the tail of credit data set:\\n{framed_credit_data.head()}')"
   ]
  },
  {
   "cell_type": "code",
   "execution_count": 4,
   "id": "55ef1adc-7e89-4d5b-8af2-860f22e28aef",
   "metadata": {},
   "outputs": [
    {
     "name": "stdout",
     "output_type": "stream",
     "text": [
      "here is the framed data set of Ip address:\n",
      "        lower_bound_ip_address  upper_bound_ip_address    country\n",
      "138841            3.758092e+09              3758093311  Hong Kong\n",
      "138842            3.758093e+09              3758094335      India\n",
      "138843            3.758095e+09              3758095871      China\n",
      "138844            3.758096e+09              3758096127  Singapore\n",
      "138845            3.758096e+09              3758096383  Australia\n"
     ]
    }
   ],
   "source": [
    "import pandas as pd\n",
    "fraud_data = pd.read_csv('../data/IpAddress_to_Country.csv')\n",
    "framed_ip_data = pd.DataFrame(fraud_data)\n",
    "print(f'here is the framed data set of Ip address:\\n{framed_ip_data.tail()}')"
   ]
  },
  {
   "cell_type": "code",
   "execution_count": 5,
   "id": "7c1d0de8-08dc-49a4-96b3-de5be8bd15ae",
   "metadata": {},
   "outputs": [
    {
     "name": "stdout",
     "output_type": "stream",
     "text": [
      "finding null value from Ip data set :\n",
      "lower_bound_ip_address    0\n",
      "upper_bound_ip_address    0\n",
      "country                   0\n",
      "dtype: int64\n",
      "finding null values from credit data set:\n",
      "Time      0\n",
      "V1        0\n",
      "V2        0\n",
      "V3        0\n",
      "V4        0\n",
      "V5        0\n",
      "V6        0\n",
      "V7        0\n",
      "V8        0\n",
      "V9        0\n",
      "V10       0\n",
      "V11       0\n",
      "V12       0\n",
      "V13       0\n",
      "V14       0\n",
      "V15       0\n",
      "V16       0\n",
      "V17       0\n",
      "V18       0\n",
      "V19       0\n",
      "V20       0\n",
      "V21       0\n",
      "V22       0\n",
      "V23       0\n",
      "V24       0\n",
      "V25       0\n",
      "V26       0\n",
      "V27       0\n",
      "V28       0\n",
      "Amount    0\n",
      "Class     0\n",
      "dtype: int64\n",
      "finding null values from fraud data set:\n",
      "user_id           0\n",
      "signup_time       0\n",
      "purchase_time     0\n",
      "purchase_value    0\n",
      "device_id         0\n",
      "source            0\n",
      "browser           0\n",
      "sex               0\n",
      "age               0\n",
      "ip_address        0\n",
      "class             0\n",
      "dtype: int64\n"
     ]
    }
   ],
   "source": [
    "print(f'finding null value from Ip data set :\\n{framed_ip_data.isnull().sum()}')\n",
    "print(f'finding null values from credit data set:\\n{framed_credit_data.isnull().sum()}')\n",
    "print(f'finding null values from fraud data set:\\n{framed_fraud_data.isnull().sum()}')"
   ]
  },
  {
   "cell_type": "code",
   "execution_count": 5,
   "id": "5b304e7c-e04e-4a4f-92ee-1582de678853",
   "metadata": {},
   "outputs": [
    {
     "name": "stdout",
     "output_type": "stream",
     "text": [
      "check if there is duplication in Ip data:\n",
      "0         False\n",
      "1         False\n",
      "2         False\n",
      "3         False\n",
      "4         False\n",
      "          ...  \n",
      "138841    False\n",
      "138842    False\n",
      "138843    False\n",
      "138844    False\n",
      "138845    False\n",
      "Length: 138846, dtype: bool\n",
      "check if there is duplication in fraud data:\n",
      "0         False\n",
      "1         False\n",
      "2         False\n",
      "3         False\n",
      "4         False\n",
      "          ...  \n",
      "151107    False\n",
      "151108    False\n",
      "151109    False\n",
      "151110    False\n",
      "151111    False\n",
      "Length: 151112, dtype: bool\n",
      "check if there is duplication in credit data:\n",
      "0         False\n",
      "1         False\n",
      "2         False\n",
      "3         False\n",
      "4         False\n",
      "          ...  \n",
      "284802    False\n",
      "284803    False\n",
      "284804    False\n",
      "284805    False\n",
      "284806    False\n",
      "Length: 284807, dtype: bool\n"
     ]
    }
   ],
   "source": [
    "print(f'check if there is duplication in Ip data:\\n{framed_ip_data.duplicated()}')\n",
    "print(f'check if there is duplication in fraud data:\\n{framed_fraud_data.duplicated()}')\n",
    "print(f'check if there is duplication in credit data:\\n{framed_credit_data.duplicated()}')"
   ]
  },
  {
   "cell_type": "code",
   "execution_count": 5,
   "id": "d1aa803d-e7c4-41cf-9285-7e643799fa3d",
   "metadata": {},
   "outputs": [
    {
     "name": "stdout",
     "output_type": "stream",
     "text": [
      "data types in the Ip data set:\n",
      " lower_bound_ip_address    float64\n",
      "upper_bound_ip_address      int64\n",
      "country                    object\n",
      "dtype: object\n",
      "data types in the fraud data set:\n",
      " user_id             int64\n",
      "signup_time        object\n",
      "purchase_time      object\n",
      "purchase_value      int64\n",
      "device_id          object\n",
      "source             object\n",
      "browser            object\n",
      "sex                object\n",
      "age                 int64\n",
      "ip_address        float64\n",
      "class               int64\n",
      "dtype: object\n",
      "data types in the credit data set:\n",
      " Time      float64\n",
      "V1        float64\n",
      "V2        float64\n",
      "V3        float64\n",
      "V4        float64\n",
      "V5        float64\n",
      "V6        float64\n",
      "V7        float64\n",
      "V8        float64\n",
      "V9        float64\n",
      "V10       float64\n",
      "V11       float64\n",
      "V12       float64\n",
      "V13       float64\n",
      "V14       float64\n",
      "V15       float64\n",
      "V16       float64\n",
      "V17       float64\n",
      "V18       float64\n",
      "V19       float64\n",
      "V20       float64\n",
      "V21       float64\n",
      "V22       float64\n",
      "V23       float64\n",
      "V24       float64\n",
      "V25       float64\n",
      "V26       float64\n",
      "V27       float64\n",
      "V28       float64\n",
      "Amount    float64\n",
      "Class       int64\n",
      "dtype: object\n"
     ]
    }
   ],
   "source": [
    "print(f'data types in the Ip data set:\\n {framed_ip_data.dtypes}')\n",
    "print(f'data types in the fraud data set:\\n {framed_fraud_data.dtypes}')\n",
    "print(f'data types in the credit data set:\\n {framed_credit_data.dtypes}')"
   ]
  },
  {
   "cell_type": "code",
   "execution_count": 6,
   "id": "7b0215fa-7836-42b8-8cc3-2c5f6e77e8d3",
   "metadata": {},
   "outputs": [],
   "source": [
    "framed_ip_data['lower_bound_ip_address'] = framed_ip_data['lower_bound_ip_address'].astype('int64')\n",
    "framed_fraud_data['ip_address'] = framed_fraud_data['ip_address'].astype('int64')"
   ]
  },
  {
   "cell_type": "code",
   "execution_count": 7,
   "id": "e1189acc-dcf0-400a-870e-eac289f87333",
   "metadata": {
    "scrolled": true
   },
   "outputs": [
    {
     "name": "stdout",
     "output_type": "stream",
     "text": [
      "data types in the Ip data set:\n",
      " lower_bound_ip_address     int64\n",
      "upper_bound_ip_address     int64\n",
      "country                   object\n",
      "dtype: object\n",
      "data types in the fraud data set:\n",
      " user_id            int64\n",
      "signup_time       object\n",
      "purchase_time     object\n",
      "purchase_value     int64\n",
      "device_id         object\n",
      "source            object\n",
      "browser           object\n",
      "sex               object\n",
      "age                int64\n",
      "ip_address         int64\n",
      "class              int64\n",
      "dtype: object\n"
     ]
    }
   ],
   "source": [
    "print(f'data types in the Ip data set:\\n {framed_ip_data.dtypes}')\n",
    "print(f'data types in the fraud data set:\\n {framed_fraud_data.dtypes}')"
   ]
  },
  {
   "cell_type": "code",
   "execution_count": 6,
   "id": "4c97473f-7cf5-49a7-a880-6890c92989ff",
   "metadata": {},
   "outputs": [],
   "source": [
    "framed_credit_data['Time'] = pd.to_datetime(framed_credit_data['Time'], errors='coerce')\n",
    "framed_fraud_data['signup_time'] = pd.to_datetime(framed_fraud_data['signup_time'], errors='coerce')\n",
    "# framed_credit_data['purchase_time'] = pd.to_datetime(framed_credit_data['purchase_time'], errors='coerce')"
   ]
  },
  {
   "cell_type": "code",
   "execution_count": 8,
   "id": "9d38eb8f-625c-4a0a-b297-93e6493db096",
   "metadata": {},
   "outputs": [
    {
     "name": "stdout",
     "output_type": "stream",
     "text": [
      "Here are the numerical columns of fraud data :\n",
      "Index(['user_id', 'purchase_value', 'age', 'ip_address', 'class'], dtype='object')\n",
      "here are the categorical columns of fraud data:\n",
      "Index(['signup_time', 'purchase_time', 'device_id', 'source', 'browser',\n",
      "       'sex'],\n",
      "      dtype='object')\n"
     ]
    }
   ],
   "source": [
    "numerical_columns_fraud = framed_fraud_data.select_dtypes(include = 'number').columns\n",
    "print(f'Here are the numerical columns of fraud data :\\n{numerical_columns_fraud}')\n",
    "categorical_columns_fraud = framed_fraud_data.select_dtypes(include = object).columns\n",
    "print(f'here are the categorical columns of fraud data:\\n{categorical_columns_fraud}')"
   ]
  },
  {
   "cell_type": "code",
   "execution_count": 9,
   "id": "eb13e457-8aae-4c85-877c-a73720729bbb",
   "metadata": {},
   "outputs": [
    {
     "name": "stdout",
     "output_type": "stream",
     "text": [
      "Here are the numerical columns of ip data :\n",
      "Index(['lower_bound_ip_address', 'upper_bound_ip_address'], dtype='object')\n",
      "here are the categorical columns of ip data:\n",
      "Index(['country'], dtype='object')\n"
     ]
    }
   ],
   "source": [
    "numerical_columns_ip = framed_ip_data.select_dtypes(include = 'number').columns\n",
    "print(f'Here are the numerical columns of ip data :\\n{numerical_columns_ip}')\n",
    "categorical_columns_ip = framed_ip_data.select_dtypes(include = object).columns\n",
    "print(f'here are the categorical columns of ip data:\\n{categorical_columns_ip}')"
   ]
  },
  {
   "cell_type": "code",
   "execution_count": 10,
   "id": "6ab1c56f-9f9d-44ac-8894-b4b6d6066d67",
   "metadata": {},
   "outputs": [
    {
     "name": "stdout",
     "output_type": "stream",
     "text": [
      "Here are the numerical columns of credit data :\n",
      "Index(['Time', 'V1', 'V2', 'V3', 'V4', 'V5', 'V6', 'V7', 'V8', 'V9', 'V10',\n",
      "       'V11', 'V12', 'V13', 'V14', 'V15', 'V16', 'V17', 'V18', 'V19', 'V20',\n",
      "       'V21', 'V22', 'V23', 'V24', 'V25', 'V26', 'V27', 'V28', 'Amount',\n",
      "       'Class'],\n",
      "      dtype='object')\n",
      "here are the categorical columns of credit data:\n",
      "Index([], dtype='object')\n"
     ]
    }
   ],
   "source": [
    "numerical_columns_credit = framed_credit_data.select_dtypes(include = 'number').columns\n",
    "print(f'Here are the numerical columns of credit data :\\n{numerical_columns_credit}')\n",
    "categorical_columns_credit = framed_credit_data.select_dtypes(include = object).columns\n",
    "print(f'here are the categorical columns of credit data:\\n{categorical_columns_credit}')"
   ]
  },
  {
   "cell_type": "code",
   "execution_count": 11,
   "id": "2b7fafaa-1fec-4feb-b49d-22ad40b4023e",
   "metadata": {},
   "outputs": [
    {
     "name": "stdout",
     "output_type": "stream",
     "text": [
      "The mean of the \"user_id\" column in the fraud data set is 200171.04096961193\n",
      "The median of the \"user_id\" column in the fraud data set is 199958.0\n",
      "The mean of the \"purchase_value\" column in the fraud data set is 36.93537243898565\n",
      "The median of the \"purchase_value\" column in the fraud data set is 35.0\n",
      "The mean of the \"age\" column in the fraud data set is 33.14070358409656\n",
      "The median of the \"age\" column in the fraud data set is 33.0\n",
      "The mean of the \"ip_address\" column in the fraud data set is 2152145330.458693\n",
      "The median of the \"ip_address\" column in the fraud data set is 2154770162.0\n",
      "The mean of the \"class\" column in the fraud data set is 0.09364577267192546\n",
      "The median of the \"class\" column in the fraud data set is 0.0\n"
     ]
    }
   ],
   "source": [
    "# Iterate over numerical columns and calculate their mean, if they exist in the DataFrame\n",
    "for numeric in numerical_columns_fraud:\n",
    "    if numeric in framed_fraud_data.columns:\n",
    "        mean_value = framed_fraud_data[numeric].mean(skipna=True)  # Skip NaN values by default\n",
    "        print(f'The mean of the \"{numeric}\" column in the fraud data set is {mean_value}')\n",
    "        median_value = framed_fraud_data[numeric].median(skipna=True)  # Skip NaN values by default\n",
    "        print(f'The median of the \"{numeric}\" column in the fraud data set is {median_value}')\n",
    "    else:\n",
    "        print(f'Column \"{numeric}\" not found in the dataset.')\n"
   ]
  },
  {
   "cell_type": "code",
   "execution_count": 12,
   "id": "eeff014d-b767-45de-b872-fe68661ce3a7",
   "metadata": {},
   "outputs": [
    {
     "name": "stdout",
     "output_type": "stream",
     "text": [
      "The mean of the \"Time\" column in the fraud data set is 94813.85957508067\n",
      "The median of the \"Time\" column in the fraud data set is 94813.85957508067\n",
      "The mean of the \"V1\" column in the fraud data set is 1.1683749838001528e-15\n",
      "The median of the \"V1\" column in the fraud data set is 1.1683749838001528e-15\n",
      "The mean of the \"V2\" column in the fraud data set is 3.416908049651284e-16\n",
      "The median of the \"V2\" column in the fraud data set is 3.416908049651284e-16\n",
      "The mean of the \"V3\" column in the fraud data set is -1.379536707896593e-15\n",
      "The median of the \"V3\" column in the fraud data set is -1.379536707896593e-15\n",
      "The mean of the \"V4\" column in the fraud data set is 2.0740951198584196e-15\n",
      "The median of the \"V4\" column in the fraud data set is 2.0740951198584196e-15\n",
      "The mean of the \"V5\" column in the fraud data set is 9.604066317127324e-16\n",
      "The median of the \"V5\" column in the fraud data set is 9.604066317127324e-16\n",
      "The mean of the \"V6\" column in the fraud data set is 1.4873130132010145e-15\n",
      "The median of the \"V6\" column in the fraud data set is 1.4873130132010145e-15\n",
      "The mean of the \"V7\" column in the fraud data set is -5.556467295694611e-16\n",
      "The median of the \"V7\" column in the fraud data set is -5.556467295694611e-16\n",
      "The mean of the \"V8\" column in the fraud data set is 1.2134813634275587e-16\n",
      "The median of the \"V8\" column in the fraud data set is 1.2134813634275587e-16\n",
      "The mean of the \"V9\" column in the fraud data set is -2.4063305498905906e-15\n",
      "The median of the \"V9\" column in the fraud data set is -2.4063305498905906e-15\n",
      "The mean of the \"V10\" column in the fraud data set is 2.2390527426993533e-15\n",
      "The median of the \"V10\" column in the fraud data set is 2.2390527426993533e-15\n",
      "The mean of the \"V11\" column in the fraud data set is 1.673326932726423e-15\n",
      "The median of the \"V11\" column in the fraud data set is 1.673326932726423e-15\n",
      "The mean of the \"V12\" column in the fraud data set is -1.2470117695222676e-15\n",
      "The median of the \"V12\" column in the fraud data set is -1.2470117695222676e-15\n",
      "The mean of the \"V13\" column in the fraud data set is 8.190001274383203e-16\n",
      "The median of the \"V13\" column in the fraud data set is 8.190001274383203e-16\n",
      "The mean of the \"V14\" column in the fraud data set is 1.2072942051600827e-15\n",
      "The median of the \"V14\" column in the fraud data set is 1.2072942051600827e-15\n",
      "The mean of the \"V15\" column in the fraud data set is 4.887455859804944e-15\n",
      "The median of the \"V15\" column in the fraud data set is 4.887455859804944e-15\n",
      "The mean of the \"V16\" column in the fraud data set is 1.4377159541859243e-15\n",
      "The median of the \"V16\" column in the fraud data set is 1.4377159541859243e-15\n",
      "The mean of the \"V17\" column in the fraud data set is -3.7721706856547467e-16\n",
      "The median of the \"V17\" column in the fraud data set is -3.7721706856547467e-16\n",
      "The mean of the \"V18\" column in the fraud data set is 9.564149167014576e-16\n",
      "The median of the \"V18\" column in the fraud data set is 9.564149167014576e-16\n",
      "The mean of the \"V19\" column in the fraud data set is 1.0399166050935636e-15\n",
      "The median of the \"V19\" column in the fraud data set is 1.0399166050935636e-15\n",
      "The mean of the \"V20\" column in the fraud data set is 6.406203628719748e-16\n",
      "The median of the \"V20\" column in the fraud data set is 6.406203628719748e-16\n",
      "The mean of the \"V21\" column in the fraud data set is 1.654066907797022e-16\n",
      "The median of the \"V21\" column in the fraud data set is 1.654066907797022e-16\n",
      "The mean of the \"V22\" column in the fraud data set is -3.568593220079729e-16\n",
      "The median of the \"V22\" column in the fraud data set is -3.568593220079729e-16\n",
      "The mean of the \"V23\" column in the fraud data set is 2.5786478972835623e-16\n",
      "The median of the \"V23\" column in the fraud data set is 2.5786478972835623e-16\n",
      "The mean of the \"V24\" column in the fraud data set is 4.473265530947536e-15\n",
      "The median of the \"V24\" column in the fraud data set is 4.473265530947536e-15\n",
      "The mean of the \"V25\" column in the fraud data set is 5.340914685085768e-16\n",
      "The median of the \"V25\" column in the fraud data set is 5.340914685085768e-16\n",
      "The mean of the \"V26\" column in the fraud data set is 1.6834371984034178e-15\n",
      "The median of the \"V26\" column in the fraud data set is 1.6834371984034178e-15\n",
      "The mean of the \"V27\" column in the fraud data set is -3.6600908126037946e-16\n",
      "The median of the \"V27\" column in the fraud data set is -3.6600908126037946e-16\n",
      "The mean of the \"V28\" column in the fraud data set is -1.2273899954199695e-16\n",
      "The median of the \"V28\" column in the fraud data set is -1.2273899954199695e-16\n",
      "The mean of the \"Amount\" column in the fraud data set is 88.34961925093133\n",
      "The median of the \"Amount\" column in the fraud data set is 88.34961925093133\n",
      "The mean of the \"Class\" column in the fraud data set is 0.001727485630620034\n",
      "The median of the \"Class\" column in the fraud data set is 0.001727485630620034\n"
     ]
    }
   ],
   "source": [
    "# Iterate over numerical columns and calculate their mean, if they exist in the DataFrame\n",
    "for numeric in numerical_columns_credit:\n",
    "    if numeric in framed_credit_data.columns:\n",
    "        mean_value = framed_credit_data[numeric].mean(skipna=True)  \n",
    "        print(f'The mean of the \"{numeric}\" column in the fraud data set is {mean_value}')\n",
    "        median_value = framed_credit_data[numeric].median(skipna=True)  \n",
    "        print(f'The median of the \"{numeric}\" column in the fraud data set is {mean_value}')\n",
    "    else:\n",
    "        print(f'Column \"{numeric}\" not found in the dataset.')\n"
   ]
  },
  {
   "cell_type": "code",
   "execution_count": 13,
   "id": "4aa64efb-c123-4181-be2a-2de3ac0bc144",
   "metadata": {},
   "outputs": [
    {
     "name": "stdout",
     "output_type": "stream",
     "text": [
      "The mean of the \"lower_bound_ip_address\" column in the fraud data set is 2724531562.515996\n",
      "The median of the \"lower_bound_ip_address\" column in the fraud data set is 2724531562.515996\n",
      "The mean of the \"upper_bound_ip_address\" column in the fraud data set is 2724557062.218357\n",
      "The median of the \"upper_bound_ip_address\" column in the fraud data set is 2724557062.218357\n"
     ]
    }
   ],
   "source": [
    "# Iterate over numerical columns and calculate their mean, if they exist in the DataFrame\n",
    "for numeric in numerical_columns_ip:\n",
    "    if numeric in framed_ip_data.columns:\n",
    "        mean_value = framed_ip_data[numeric].mean(skipna=True)  \n",
    "        print(f'The mean of the \"{numeric}\" column in the fraud data set is {mean_value}')\n",
    "        median_value = framed_ip_data[numeric].median(skipna=True)  \n",
    "        print(f'The median of the \"{numeric}\" column in the fraud data set is {mean_value}')\n",
    "    else:\n",
    "        print(f'Column \"{numeric}\" not found in the dataset.')\n"
   ]
  },
  {
   "cell_type": "code",
   "execution_count": 14,
   "id": "b0bf3f3f-617d-43c8-a078-1d86431d36ba",
   "metadata": {},
   "outputs": [
    {
     "name": "stdout",
     "output_type": "stream",
     "text": [
      "Here are the categorical columns of fraud data:\n",
      "Index(['signup_time', 'purchase_time', 'device_id', 'source', 'browser',\n",
      "       'sex'],\n",
      "      dtype='object')\n"
     ]
    },
    {
     "name": "stderr",
     "output_type": "stream",
     "text": [
      "C:\\Users\\User\\AppData\\Local\\Temp\\ipykernel_24548\\2751933647.py:26: UserWarning: Creating legend with loc=\"best\" can be slow with large amounts of data.\n",
      "  plt.tight_layout()\n",
      "C:\\Users\\User\\AppData\\Local\\Programs\\Python\\Python312\\Lib\\site-packages\\IPython\\core\\pylabtools.py:170: UserWarning: Creating legend with loc=\"best\" can be slow with large amounts of data.\n",
      "  fig.canvas.print_figure(bytes_io, **kw)\n"
     ]
    },
    {
     "data": {
      "image/png": "[encoded data removed]",
      "text/plain": [
       "<Figure size 1000x600 with 1 Axes>"
      ]
     },
     "metadata": {},
     "output_type": "display_data"
    }
   ],
   "source": [
    "import matplotlib.pyplot as plt\n",
    "import pandas as pd\n",
    "\n",
    "# Select the categorical columns from framed_fraud_data\n",
    "categorical_columns_fraud = framed_fraud_data.select_dtypes(include='object').columns\n",
    "print(f'Here are the categorical columns of fraud data:\\n{categorical_columns_fraud}')\n",
    "\n",
    "# Get the value counts for each categorical column\n",
    "category_counts = framed_fraud_data[categorical_columns_fraud].apply(lambda x: x.value_counts())\n",
    "\n",
    "plt.figure(figsize=(10, 6))\n",
    "\n",
    "# Loop through each categorical column to plot its values\n",
    "for column in categorical_columns_fraud:\n",
    "    value_counts = framed_fraud_data[column].value_counts()\n",
    "    plt.bar(value_counts.index, value_counts.values, label=column, alpha=0.7)\n",
    "\n",
    "# Set the labels and title\n",
    "plt.xlabel('Categories')\n",
    "plt.ylabel('Values')\n",
    "plt.title('Bar Plot of Categorical Data')\n",
    "plt.xticks(rotation=45)  # Rotate x-axis labels for better visibility\n",
    "plt.legend(title='Columns')\n",
    "\n",
    "# Adjust layout to prevent clipping and show the plot\n",
    "plt.tight_layout()\n",
    "plt.show()\n"
   ]
  },
  {
   "cell_type": "code",
   "execution_count": null,
   "id": "4927c278-468a-4fcf-af0e-e42bbcc1d710",
   "metadata": {},
   "outputs": [
    {
     "name": "stdout",
     "output_type": "stream",
     "text": [
      "Here are the categorical columns of credit data:\n",
      "Index([], dtype='object')\n"
     ]
    }
   ],
   "source": [
    "import matplotlib.pyplot as plt\n",
    "import pandas as pd\n",
    "\n",
    "# Select the categorical columns from framed_credit_data\n",
    "categorical_columns_credit = framed_credit_data.select_dtypes(include='object').columns\n",
    "print(f'Here are the categorical columns of credit data:\\n{categorical_columns_credit}')\n",
    "\n",
    "# Get the value counts for each categorical column and transpose the resulting DataFrame\n",
    "category_counts_credit = framed_credit_data[categorical_columns_credit].apply(pd.Series.value_counts)\n",
    "\n",
    "# Transpose to make columns as categories and index as columns\n",
    "category_counts_credit = category_counts_credit.T\n",
    "\n",
    "# Set up subplots: one subplot per categorical column\n",
    "fig, axs = plt.subplots(len(category_counts_credit.columns), figsize=(10, 6 * len(category_counts_credit.columns)))\n",
    "\n",
    "# Loop over each categorical column and plot\n",
    "for idx, column in enumerate(category_counts_credit.columns):\n",
    "    axs[idx].bar(category_counts_credit.index, category_counts_credit[column], label=column, width=0.4)\n",
    "    axs[idx].set_xlabel('Categories')\n",
    "    axs[idx].set_ylabel('Values')\n",
    "    axs[idx].set_title(f'Bar Plot for {column}')\n",
    "    axs[idx].tick_params(axis='x', rotation=45)  # Rotate x-axis labels for better visibility\n",
    "    axs[idx].legend()\n",
    "\n",
    "# Adjust layout to prevent overlapping\n",
    "plt.tight_layout()\n",
    "plt.show()\n"
   ]
  },
  {
   "cell_type": "code",
   "execution_count": 24,
   "id": "cb38af33-6c1d-4da8-a020-4cfed9fb9e27",
   "metadata": {},
   "outputs": [
    {
     "name": "stdout",
     "output_type": "stream",
     "text": [
      "   lower_bound_ip_address  upper_bound_ip_address    country  ip_address\n",
      "0                16777216                16777471  Australia    16777471\n",
      "1                16777472                16777727      China    16777727\n",
      "2                16777728                16778239      China    16778239\n",
      "3                16778240                16779263  Australia    16779263\n",
      "4                16779264                16781311      China    16781311\n"
     ]
    }
   ],
   "source": [
    "import pandas as pd\n",
    "import ipaddress\n",
    "\n",
    "# Function to convert IP addresses to integer format\n",
    "def ip_to_int(ip):\n",
    "    try:\n",
    "        return int(ipaddress.ip_address(ip))\n",
    "    except ValueError:\n",
    "        return None \n",
    "\n",
    "# Apply the conversion function to both columns\n",
    "framed_ip_data['ip_address'] = framed_ip_data['lower_bound_ip_address'].apply(ip_to_int)\n",
    "framed_ip_data['ip_address'] = framed_ip_data['upper_bound_ip_address'].apply(ip_to_int)\n",
    "framed_fraud_data['ip_address'] = framed_fraud_data['ip_address'].apply(ip_to_int)\n",
    "\n",
    "if not invalid_lower_ips.empty:\n",
    "    print(\"Invalid lower bound IPs:\")\n",
    "    print(invalid_lower_ips)\n",
    "\n",
    "if not invalid_upper_ips.empty:\n",
    "    print(\"Invalid upper bound IPs:\")\n",
    "    print(invalid_upper_ips)\n",
    "print(framed_ip_data.head())\n"
   ]
  },
  {
   "cell_type": "code",
   "execution_count": 25,
   "id": "50f3d8c5-0846-4c5a-8c89-8129be9c5a92",
   "metadata": {},
   "outputs": [],
   "source": [
    "merged_data = pd.merge(framed_fraud_data, framed_ip_data, on='ip_address', how='left')"
   ]
  },
  {
   "cell_type": "code",
   "execution_count": 26,
   "id": "7886bcf4-fcf1-4cf1-8ad2-4b9e7479f806",
   "metadata": {},
   "outputs": [
    {
     "name": "stdout",
     "output_type": "stream",
     "text": [
      "Merged data saved successfully!\n"
     ]
    }
   ],
   "source": [
    "merged_data.to_csv('Merged_Fraud_Data_with_Geolocation.csv', index=False)\n",
    "print(\"Merged data saved successfully!\")"
   ]
  },
  {
   "cell_type": "code",
   "execution_count": null,
   "id": "d4358b27-b649-420f-9136-c788cf1ba72b",
   "metadata": {},
   "outputs": [],
   "source": [
    "from sklearn.preprocessing import LabelEncoder\n",
    "\n",
    "# Get the categorical columns from the fraud data\n",
    "categorical_columns_fraud = framed_fraud_data.select_dtypes(include=object).columns\n",
    "print(f'Here are the categorical columns of fraud data:\\n{categorical_columns_fraud}')\n",
    "\n",
    "# Initialize the LabelEncoder\n",
    "label_encoder = LabelEncoder()\n",
    "\n",
    "# Apply label encoding to each categorical column\n",
    "for col in categorical_columns_fraud:\n",
    "    framed_fraud_data[col] = label_encoder.fit_transform(framed_fraud_data[col])\n",
    "\n",
    "# Display the DataFrame with the encoded categorical columns\n",
    "print(framed_fraud_data.head())\n"
   ]
  },
  {
   "cell_type": "code",
   "execution_count": null,
   "id": "1fe86ec1-206e-4b3e-8d32-be0f822f8285",
   "metadata": {},
   "outputs": [],
   "source": [
    "from sklearn.preprocessing import LabelEncoder\n",
    "\n",
    "# Get the categorical columns from the IP data\n",
    "categorical_columns_ip = framed_ip_data.select_dtypes(include=object).columns\n",
    "print(f'Here are the categorical columns of IP data:\\n{categorical_columns_ip}')\n",
    "\n",
    "# Initialize the LabelEncoder\n",
    "label_encoder = LabelEncoder()\n",
    "\n",
    "# Apply label encoding to each categorical column in the IP data\n",
    "for col in categorical_columns_ip:\n",
    "    framed_ip_data[col] = label_encoder.fit_transform(framed_ip_data[col])\n",
    "\n",
    "# Display the DataFrame with the encoded categorical columns\n",
    "print(framed_ip_data.head())\n"
   ]
  },
  {
   "cell_type": "code",
   "execution_count": null,
   "id": "6debf620-31cb-4777-aaa8-3e78295c2ac2",
   "metadata": {},
   "outputs": [],
   "source": [
    "from sklearn.preprocessing import LabelEncoder\n",
    "\n",
    "# Get the categorical columns from the credit data\n",
    "categorical_columns_credit = framed_credit_data.select_dtypes(include=object).columns\n",
    "print(f'Here are the categorical columns of credit data:\\n{categorical_columns_credit}')\n",
    "\n",
    "# Initialize the LabelEncoder\n",
    "label_encoder = LabelEncoder()\n",
    "\n",
    "# Apply label encoding to each categorical column in the credit data\n",
    "for col in categorical_columns_credit:\n",
    "    framed_credit_data[col] = label_encoder.fit_transform(framed_credit_data[col])\n",
    "\n",
    "# Display the DataFrame with the encoded categorical columns\n",
    "print(framed_credit_data.head())\n"
   ]
  },
  {
   "cell_type": "code",
   "execution_count": null,
   "id": "6c091f4a-f51b-48e5-a111-b467d6f19461",
   "metadata": {},
   "outputs": [],
   "source": []
  }
 ],
 "metadata": {
  "kernelspec": {
   "display_name": "Python 3 (ipykernel)",
   "language": "python",
   "name": "python3"
  },
  "language_info": {
   "codemirror_mode": {
    "name": "ipython",
    "version": 3
   },
   "file_extension": ".py",
   "mimetype": "text/x-python",
   "name": "python",
   "nbconvert_exporter": "python",
   "pygments_lexer": "ipython3",
   "version": "3.12.6"
  }
 },
 "nbformat": 4,
 "nbformat_minor": 5
}
