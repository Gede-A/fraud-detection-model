{
 "cells": [
  {
   "cell_type": "code",
   "execution_count": 18,
   "id": "be871bca-de66-48bb-9834-78684a128a63",
   "metadata": {},
   "outputs": [
    {
     "name": "stdout",
     "output_type": "stream",
     "text": [
      "Here is the tail of fraud data set:\n",
      "        user_id          signup_time        purchase_time  purchase_value  \\\n",
      "151107   345170  2015-01-27 03:03:34  2015-03-29 00:30:47              43   \n",
      "151108   274471  2015-05-15 17:43:29  2015-05-26 12:24:39              35   \n",
      "151109   368416  2015-03-03 23:07:31  2015-05-20 07:07:47              40   \n",
      "151110   207709  2015-07-09 20:06:07  2015-09-07 09:34:46              46   \n",
      "151111   138208  2015-06-10 07:02:20  2015-07-21 02:03:53              20   \n",
      "\n",
      "            device_id  source browser sex  age    ip_address  class  \n",
      "151107  XPSKTWGPWINLR     SEO  Chrome   M   28  3.451155e+09      1  \n",
      "151108  LYSFABUCPCGBA     SEO  Safari   M   32  2.439047e+09      0  \n",
      "151109  MEQHCSJUBRBFE     SEO      IE   F   26  2.748471e+09      0  \n",
      "151110  CMCXFGRHYSTVJ     SEO  Chrome   M   37  3.601175e+09      0  \n",
      "151111  ZINIADFCLHYPG  Direct      IE   M   38  4.103825e+09      0  \n"
     ]
    }
   ],
   "source": [
    "import pandas as pd\n",
    "fraud_data = pd.read_csv('../data/Fraud_data.csv')\n",
    "framed_fraud_data = pd.DataFrame(fraud_data)\n",
    "print(f'Here is the tail of fraud data set:\\n{framed_fraud_data.tail()}')"
   ]
  },
  {
   "cell_type": "code",
   "execution_count": 23,
   "id": "2426726c-70c3-484d-9066-cbfcaca9452a",
   "metadata": {},
   "outputs": [
    {
     "name": "stdout",
     "output_type": "stream",
     "text": [
      "Here is the tail of credit data set:\n",
      "   Time        V1        V2        V3        V4        V5        V6        V7  \\\n",
      "0   0.0 -1.359807 -0.072781  2.536347  1.378155 -0.338321  0.462388  0.239599   \n",
      "1   0.0  1.191857  0.266151  0.166480  0.448154  0.060018 -0.082361 -0.078803   \n",
      "2   1.0 -1.358354 -1.340163  1.773209  0.379780 -0.503198  1.800499  0.791461   \n",
      "3   1.0 -0.966272 -0.185226  1.792993 -0.863291 -0.010309  1.247203  0.237609   \n",
      "4   2.0 -1.158233  0.877737  1.548718  0.403034 -0.407193  0.095921  0.592941   \n",
      "\n",
      "         V8        V9  ...       V21       V22       V23       V24       V25  \\\n",
      "0  0.098698  0.363787  ... -0.018307  0.277838 -0.110474  0.066928  0.128539   \n",
      "1  0.085102 -0.255425  ... -0.225775 -0.638672  0.101288 -0.339846  0.167170   \n",
      "2  0.247676 -1.514654  ...  0.247998  0.771679  0.909412 -0.689281 -0.327642   \n",
      "3  0.377436 -1.387024  ... -0.108300  0.005274 -0.190321 -1.175575  0.647376   \n",
      "4 -0.270533  0.817739  ... -0.009431  0.798278 -0.137458  0.141267 -0.206010   \n",
      "\n",
      "        V26       V27       V28  Amount  Class  \n",
      "0 -0.189115  0.133558 -0.021053  149.62      0  \n",
      "1  0.125895 -0.008983  0.014724    2.69      0  \n",
      "2 -0.139097 -0.055353 -0.059752  378.66      0  \n",
      "3 -0.221929  0.062723  0.061458  123.50      0  \n",
      "4  0.502292  0.219422  0.215153   69.99      0  \n",
      "\n",
      "[5 rows x 31 columns]\n"
     ]
    }
   ],
   "source": [
    "import pandas as pd\n",
    "fraud_data = pd.read_csv('../data/creditcard.csv')\n",
    "framed_credit_data = pd.DataFrame(fraud_data)\n",
    "print(f'Here is the tail of credit data set:\\n{framed_credit_data.head()}')"
   ]
  },
  {
   "cell_type": "code",
   "execution_count": 24,
   "id": "55ef1adc-7e89-4d5b-8af2-860f22e28aef",
   "metadata": {},
   "outputs": [
    {
     "name": "stdout",
     "output_type": "stream",
     "text": [
      "here is the framed data set of Ip address:\n",
      "        lower_bound_ip_address  upper_bound_ip_address    country\n",
      "138841            3.758092e+09              3758093311  Hong Kong\n",
      "138842            3.758093e+09              3758094335      India\n",
      "138843            3.758095e+09              3758095871      China\n",
      "138844            3.758096e+09              3758096127  Singapore\n",
      "138845            3.758096e+09              3758096383  Australia\n"
     ]
    }
   ],
   "source": [
    "import pandas as pd\n",
    "fraud_data = pd.read_csv('../data/IpAddress_to_Country.csv')\n",
    "framed_ip_data = pd.DataFrame(fraud_data)\n",
    "print(f'here is the framed data set of Ip address:\\n{framed_ip_data.tail()}')"
   ]
  },
  {
   "cell_type": "code",
   "execution_count": 27,
   "id": "7c1d0de8-08dc-49a4-96b3-de5be8bd15ae",
   "metadata": {},
   "outputs": [
    {
     "name": "stdout",
     "output_type": "stream",
     "text": [
      "finding null value from Ip data set :\n",
      "lower_bound_ip_address    0\n",
      "upper_bound_ip_address    0\n",
      "country                   0\n",
      "dtype: int64\n",
      "finding null values from credit data set:\n",
      "Time      0\n",
      "V1        0\n",
      "V2        0\n",
      "V3        0\n",
      "V4        0\n",
      "V5        0\n",
      "V6        0\n",
      "V7        0\n",
      "V8        0\n",
      "V9        0\n",
      "V10       0\n",
      "V11       0\n",
      "V12       0\n",
      "V13       0\n",
      "V14       0\n",
      "V15       0\n",
      "V16       0\n",
      "V17       0\n",
      "V18       0\n",
      "V19       0\n",
      "V20       0\n",
      "V21       0\n",
      "V22       0\n",
      "V23       0\n",
      "V24       0\n",
      "V25       0\n",
      "V26       0\n",
      "V27       0\n",
      "V28       0\n",
      "Amount    0\n",
      "Class     0\n",
      "dtype: int64\n",
      "finding null values from fraud data set:\n",
      "user_id           0\n",
      "signup_time       0\n",
      "purchase_time     0\n",
      "purchase_value    0\n",
      "device_id         0\n",
      "source            0\n",
      "browser           0\n",
      "sex               0\n",
      "age               0\n",
      "ip_address        0\n",
      "class             0\n",
      "dtype: int64\n"
     ]
    }
   ],
   "source": [
    "print(f'finding null value from Ip data set :\\n{framed_ip_data.isnull().sum()}')\n",
    "print(f'finding null values from credit data set:\\n{framed_credit_data.isnull().sum()}')\n",
    "print(f'finding null values from fraud data set:\\n{framed_fraud_data.isnull().sum()}')"
   ]
  },
  {
   "cell_type": "code",
   "execution_count": 30,
   "id": "5b304e7c-e04e-4a4f-92ee-1582de678853",
   "metadata": {},
   "outputs": [
    {
     "name": "stdout",
     "output_type": "stream",
     "text": [
      "check if there is duplication in Ip data:\n",
      "0         False\n",
      "1         False\n",
      "2         False\n",
      "3         False\n",
      "4         False\n",
      "          ...  \n",
      "138841    False\n",
      "138842    False\n",
      "138843    False\n",
      "138844    False\n",
      "138845    False\n",
      "Length: 138846, dtype: bool\n",
      "check if there is duplication in fraud data:\n",
      "0         False\n",
      "1         False\n",
      "2         False\n",
      "3         False\n",
      "4         False\n",
      "          ...  \n",
      "151107    False\n",
      "151108    False\n",
      "151109    False\n",
      "151110    False\n",
      "151111    False\n",
      "Length: 151112, dtype: bool\n",
      "check if there is duplication in credit data:\n",
      "0         False\n",
      "1         False\n",
      "2         False\n",
      "3         False\n",
      "4         False\n",
      "          ...  \n",
      "284802    False\n",
      "284803    False\n",
      "284804    False\n",
      "284805    False\n",
      "284806    False\n",
      "Length: 284807, dtype: bool\n"
     ]
    }
   ],
   "source": [
    "print(f'check if there is duplication in Ip data:\\n{framed_ip_data.duplicated()}')\n",
    "print(f'check if there is duplication in fraud data:\\n{framed_fraud_data.duplicated()}')\n",
    "print(f'check if there is duplication in credit data:\\n{framed_credit_data.duplicated()}')"
   ]
  },
  {
   "cell_type": "code",
   "execution_count": 34,
   "id": "d1aa803d-e7c4-41cf-9285-7e643799fa3d",
   "metadata": {},
   "outputs": [
    {
     "name": "stdout",
     "output_type": "stream",
     "text": [
      "data types in the Ip data set:\n",
      " lower_bound_ip_address    float64\n",
      "upper_bound_ip_address      int64\n",
      "country                    object\n",
      "dtype: object\n",
      "data types in the fraud data set:\n",
      " user_id             int64\n",
      "signup_time        object\n",
      "purchase_time      object\n",
      "purchase_value      int64\n",
      "device_id          object\n",
      "source             object\n",
      "browser            object\n",
      "sex                object\n",
      "age                 int64\n",
      "ip_address        float64\n",
      "class               int64\n",
      "dtype: object\n",
      "data types in the credit data set:\n",
      " Time      float64\n",
      "V1        float64\n",
      "V2        float64\n",
      "V3        float64\n",
      "V4        float64\n",
      "V5        float64\n",
      "V6        float64\n",
      "V7        float64\n",
      "V8        float64\n",
      "V9        float64\n",
      "V10       float64\n",
      "V11       float64\n",
      "V12       float64\n",
      "V13       float64\n",
      "V14       float64\n",
      "V15       float64\n",
      "V16       float64\n",
      "V17       float64\n",
      "V18       float64\n",
      "V19       float64\n",
      "V20       float64\n",
      "V21       float64\n",
      "V22       float64\n",
      "V23       float64\n",
      "V24       float64\n",
      "V25       float64\n",
      "V26       float64\n",
      "V27       float64\n",
      "V28       float64\n",
      "Amount    float64\n",
      "Class       int64\n",
      "dtype: object\n"
     ]
    }
   ],
   "source": [
    "print(f'data types in the Ip data set:\\n {framed_ip_data.dtypes}')\n",
    "print(f'data types in the fraud data set:\\n {framed_fraud_data.dtypes}')\n",
    "print(f'data types in the credit data set:\\n {framed_credit_data.dtypes}')"
   ]
  },
  {
   "cell_type": "code",
   "execution_count": 37,
   "id": "7b0215fa-7836-42b8-8cc3-2c5f6e77e8d3",
   "metadata": {},
   "outputs": [],
   "source": [
    "framed_ip_data['lower_bound_ip_address'] = framed_ip_data['lower_bound_ip_address'].astype('int64')\n",
    "framed_fraud_data['ip_address'] = framed_fraud_data['ip_address'].astype('int64')"
   ]
  },
  {
   "cell_type": "code",
   "execution_count": 38,
   "id": "e1189acc-dcf0-400a-870e-eac289f87333",
   "metadata": {},
   "outputs": [
    {
     "name": "stdout",
     "output_type": "stream",
     "text": [
      "data types in the Ip data set:\n",
      " lower_bound_ip_address     int64\n",
      "upper_bound_ip_address     int64\n",
      "country                   object\n",
      "dtype: object\n",
      "data types in the fraud data set:\n",
      " user_id            int64\n",
      "signup_time       object\n",
      "purchase_time     object\n",
      "purchase_value     int64\n",
      "device_id         object\n",
      "source            object\n",
      "browser           object\n",
      "sex               object\n",
      "age                int64\n",
      "ip_address         int64\n",
      "class              int64\n",
      "dtype: object\n"
     ]
    }
   ],
   "source": [
    "print(f'data types in the Ip data set:\\n {framed_ip_data.dtypes}')\n",
    "print(f'data types in the fraud data set:\\n {framed_fraud_data.dtypes}')"
   ]
  },
  {
   "cell_type": "code",
   "execution_count": null,
   "id": "9d38eb8f-625c-4a0a-b297-93e6493db096",
   "metadata": {},
   "outputs": [],
   "source": []
  }
 ],
 "metadata": {
  "kernelspec": {
   "display_name": "Python 3 (ipykernel)",
   "language": "python",
   "name": "python3"
  },
  "language_info": {
   "codemirror_mode": {
    "name": "ipython",
    "version": 3
   },
   "file_extension": ".py",
   "mimetype": "text/x-python",
   "name": "python",
   "nbconvert_exporter": "python",
   "pygments_lexer": "ipython3",
   "version": "3.12.6"
  }
 },
 "nbformat": 4,
 "nbformat_minor": 5
}
